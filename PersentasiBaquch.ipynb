{
 "cells": [
  {
   "cell_type": "markdown",
   "metadata": {},
   "source": [
    "# Price Predictions By. Sahabat Ormas\n",
    "## prediksi harga emas, perak, USD besoknya menggunakan metode Linear Regression, Ridge Regression, Lasso\n",
    "###### Penjelasan Mengenai Fungsi 3, yaitu series Perak. presenter : Mochammad Bagus Insan (IF07L)"
   ]
  },
  {
   "cell_type": "markdown",
   "metadata": {},
   "source": [
    "# Metode Linear Regression"
   ]
  },
  {
   "cell_type": "code",
   "execution_count": null,
   "metadata": {
    "pycharm": {
     "is_executing": true,
     "name": "#%%\n"
    }
   },
   "outputs": [],
   "source": [
    "from sklearn.linear_model import LinearRegression, Ridge, Lasso\n",
    "import numpy as np\n",
    "from connect import data_perak as data\n",
    "import datetime\n",
    "import pandas as pd\n",
    "from matplotlib.figure import Figure\n",
    "import matplotlib.pyplot as  plt"
   ]
  },
  {
   "cell_type": "markdown",
   "metadata": {},
   "source": []
  },
  {
   "cell_type": "code",
   "execution_count": 40,
   "metadata": {
    "pycharm": {
     "name": "#%%\n"
    }
   },
   "outputs": [],
   "source": [
    "besok = datetime.date.today() + datetime.timedelta(days=1)\n",
    "\n",
    "date = data[\"date\"] #(tipe data series)\n",
    "date_predict = np.array([str(str(besok.year)+'-0'+str(besok.month)+'-'+str(besok.day))]) #\"2021-06-30\" (numpy array string)\n",
    "price = data[\"price\"]"
   ]
  },
  {
   "cell_type": "markdown",
   "metadata": {},
   "source": []
  },
  {
   "cell_type": "code",
   "execution_count": null,
   "metadata": {
    "pycharm": {
     "name": "#%%\n"
    }
   },
   "outputs": [],
   "source": [
    "def to_datetime(date):\n",
    "    df = pd.DataFrame({'date': date})\n",
    "    #merubah ke tipe data datetime\n",
    "    df.date = pd.to_datetime(df.date)\n",
    "    return df.date"
   ]
  },
  {
   "cell_type": "markdown",
   "metadata": {},
   "source": []
  },
  {
   "cell_type": "code",
   "execution_count": null,
   "metadata": {},
   "outputs": [],
   "source": [
    "def to_datetime_pred(date_predict):\n",
    "    dfe = pd.DataFrame({'prediksi': date_predict})\n",
    "    #merubah ke tipe data datetime\n",
    "    dfe.prediksi = pd.to_datetime(dfe.prediksi)\n",
    "    return dfe.prediksi"
   ]
  },
  {
   "cell_type": "code",
   "execution_count": null,
   "metadata": {},
   "outputs": [],
   "source": []
  },
  {
   "cell_type": "code",
   "execution_count": 42,
   "metadata": {
    "pycharm": {
     "name": "#%%\n"
    }
   },
   "outputs": [],
   "source": [
    "x = to_datetime(date).values.astype(float).reshape(-1, 1)\n",
    "x_predict = to_datetime_pred(date_predict).values.astype(float).reshape(-1, 1)\n",
    "y = price.values.reshape(-1, 1)"
   ]
  },
  {
   "cell_type": "markdown",
   "metadata": {},
   "source": []
  },
  {
   "cell_type": "code",
   "execution_count": null,
   "metadata": {
    "pycharm": {
     "name": "#%%\n"
    }
   },
   "outputs": [],
   "source": [
    "lin = LinearRegression()\n",
    "lin.fit(x, y)"
   ]
  },
  {
   "cell_type": "markdown",
   "metadata": {},
   "source": []
  },
  {
   "cell_type": "code",
   "execution_count": null,
   "metadata": {
    "pycharm": {
     "name": "#%%\n"
    }
   },
   "outputs": [],
   "source": [
    "def coef_intercept(lin):\n",
    "    coef = lin.coef_\n",
    "    intercept = lin.intercept_\n",
    "    return coef, intercept"
   ]
  },
  {
   "cell_type": "markdown",
   "metadata": {},
   "source": []
  },
  {
   "cell_type": "code",
   "execution_count": null,
   "metadata": {
    "pycharm": {
     "name": "#%%\n"
    }
   },
   "outputs": [],
   "source": [
    "def prediction(lin):\n",
    "    lin_predict = lin.predict(x)\n",
    "    lin_pred_future = lin.predict(x_predict)\n",
    "    return lin_predict, lin_pred_future"
   ]
  },
  {
   "cell_type": "markdown",
   "metadata": {},
   "source": []
  },
  {
   "cell_type": "code",
   "execution_count": null,
   "metadata": {
    "pycharm": {
     "name": "#%%\n"
    }
   },
   "outputs": [],
   "source": [
    "coef, intercept = coef_intercept(lin)\n",
    "lin_predict, lin_pred_future = prediction(lin)"
   ]
  },
  {
   "cell_type": "markdown",
   "metadata": {},
   "source": []
  },
  {
   "cell_type": "code",
   "execution_count": null,
   "metadata": {
    "pycharm": {
     "name": "#%%\n"
    }
   },
   "outputs": [],
   "source": [
    "plt.scatter(to_datetime(date), y, color='green')\n",
    "plt.plot(to_datetime(date), lin_predict)\n",
    "plt.plot(to_datetime_pred(date_predict), lin_pred_future)\n",
    "plt.tick_params(labelrotation=30)\n",
    "plt.ylabel(\"Dalam Rupiah\")\n",
    "plt.xlabel(\"Tanggal (jangka 14 hari)\")\n",
    "plt.legend(['Garis linear regression'])\n",
    "plt.title(\"Grafik Linear Regression Prediksi Harga Perak\")\n",
    "plt.show()"
   ]
  },
  {
   "cell_type": "markdown",
   "metadata": {},
   "source": []
  },
  {
   "cell_type": "code",
   "execution_count": null,
   "metadata": {
    "pycharm": {
     "name": "#%%\n"
    }
   },
   "outputs": [],
   "source": [
    "print(\"Pediksi Harga Perak menggunakan metode Linear Regression\")\n",
    "print(\"Intercept = {}\".format(intercept))\n",
    "print(\"Coeffisien = {}\".format(coef))\n",
    "print(\"Prediksi Besoknya = {}\".format(lin_pred_future))"
   ]
  },
  {
   "cell_type": "markdown",
   "metadata": {},
   "source": [
    "# Metode Ridge Regression"
   ]
  },
  {
   "cell_type": "code",
   "execution_count": null,
   "metadata": {
    "pycharm": {
     "name": "#%%\n"
    }
   },
   "outputs": [],
   "source": [
    "besok = datetime.date.today() + datetime.timedelta(days=1)\n",
    "\n",
    "date = data[\"date\"]\n",
    "date_predict = np.array([str(str(besok.year)+'-0'+str(besok.month)+'-'+str(besok.day))])\n",
    "price = data[\"price\"]\n",
    "\n",
    "date.head(14)"
   ]
  },
  {
   "cell_type": "code",
   "execution_count": null,
   "metadata": {
    "pycharm": {
     "name": "#%%\n"
    }
   },
   "outputs": [],
   "source": [
    "price.head(14)"
   ]
  },
  {
   "cell_type": "markdown",
   "metadata": {},
   "source": []
  },
  {
   "cell_type": "code",
   "execution_count": null,
   "metadata": {
    "pycharm": {
     "name": "#%%\n"
    }
   },
   "outputs": [],
   "source": [
    "def to_datetime(date):\n",
    "    df = pd.DataFrame({'date': date})\n",
    "    df.date = pd.to_datetime(df.date)\n",
    "    return df.date"
   ]
  },
  {
   "cell_type": "markdown",
   "metadata": {},
   "source": []
  },
  {
   "cell_type": "code",
   "execution_count": null,
   "metadata": {
    "pycharm": {
     "name": "#%%\n"
    }
   },
   "outputs": [],
   "source": [
    "def to_datetime_pred(date_predict):\n",
    "    dfe = pd.DataFrame({'prediksi': date_predict})\n",
    "    dfe.prediksi = pd.to_datetime(dfe.prediksi)\n",
    "    return dfe.prediksi"
   ]
  },
  {
   "cell_type": "markdown",
   "metadata": {},
   "source": []
  },
  {
   "cell_type": "code",
   "execution_count": null,
   "metadata": {
    "pycharm": {
     "name": "#%%\n"
    }
   },
   "outputs": [],
   "source": [
    "x = to_datetime(date).values.astype(float).reshape(-1, 1)\n",
    "x_predict = to_datetime_pred(date_predict).values.astype(float).reshape(-1, 1)\n",
    "y = price.values.reshape(-1, 1)"
   ]
  },
  {
   "cell_type": "markdown",
   "metadata": {},
   "source": []
  },
  {
   "cell_type": "code",
   "execution_count": null,
   "metadata": {
    "pycharm": {
     "name": "#%%\n"
    }
   },
   "outputs": [],
   "source": [
    "rid = Ridge(alpha=0.01)\n",
    "rid.fit(x, y)"
   ]
  },
  {
   "cell_type": "markdown",
   "metadata": {},
   "source": []
  },
  {
   "cell_type": "code",
   "execution_count": null,
   "metadata": {
    "pycharm": {
     "name": "#%%\n"
    }
   },
   "outputs": [],
   "source": [
    "def coef_intercept(rid):\n",
    "    coef = rid.coef_\n",
    "    intercept = rid.intercept_\n",
    "    return coef, intercept"
   ]
  },
  {
   "cell_type": "markdown",
   "metadata": {},
   "source": []
  },
  {
   "cell_type": "code",
   "execution_count": null,
   "metadata": {
    "pycharm": {
     "name": "#%%\n"
    }
   },
   "outputs": [],
   "source": [
    "def prediction(rid):\n",
    "    rid_predict = rid.predict(x)\n",
    "    rid_pred_future = rid.predict(x_predict)\n",
    "    return rid_predict, rid_pred_future"
   ]
  },
  {
   "cell_type": "markdown",
   "metadata": {},
   "source": []
  },
  {
   "cell_type": "code",
   "execution_count": null,
   "metadata": {
    "pycharm": {
     "name": "#%%\n"
    }
   },
   "outputs": [],
   "source": [
    "coef, intercept = coef_intercept(rid)\n",
    "rid_predict, rid_pred_future = prediction(rid)"
   ]
  },
  {
   "cell_type": "markdown",
   "metadata": {},
   "source": []
  },
  {
   "cell_type": "code",
   "execution_count": null,
   "metadata": {
    "pycharm": {
     "name": "#%%\n"
    }
   },
   "outputs": [],
   "source": [
    "plt.scatter(to_datetime(date), y, color='green')\n",
    "plt.plot(to_datetime(date), rid_predict)\n",
    "plt.plot(to_datetime_pred(date_predict), rid_pred_future)\n",
    "plt.tick_params(labelrotation=30)\n",
    "plt.ylabel(\"Dalam Rupiah\")\n",
    "plt.xlabel(\"Tanggal (jangka 14 hari)\")\n",
    "plt.legend(['Garis Ridge regression'])\n",
    "plt.title(\"Grafik Ridge Regression Prediksi Harga Perak\")\n",
    "plt.show()"
   ]
  },
  {
   "cell_type": "markdown",
   "metadata": {},
   "source": []
  },
  {
   "cell_type": "code",
   "execution_count": null,
   "metadata": {
    "pycharm": {
     "name": "#%%\n"
    }
   },
   "outputs": [],
   "source": [
    "print(\"Pediksi Harga Perak menggunakan metode Ridge Regression\")\n",
    "print(\"Intercept = {}\".format(intercept))\n",
    "print(\"Coeffisien = {}\".format(coef))\n",
    "print(\"Prediksi Besoknya = {}\".format(rid_pred_future))"
   ]
  },
  {
   "cell_type": "markdown",
   "metadata": {},
   "source": [
    "# Medtode Lasso"
   ]
  },
  {
   "cell_type": "code",
   "execution_count": null,
   "metadata": {
    "pycharm": {
     "name": "#%%\n"
    }
   },
   "outputs": [],
   "source": [
    "besok = datetime.date.today() + datetime.timedelta(days=1)\n",
    "\n",
    "date = data[\"date\"]\n",
    "date_predict = np.array([str(str(besok.year)+'-0'+str(besok.month)+'-'+str(besok.day))])\n",
    "price = data[\"price\"]\n",
    "\n",
    "date.head(14)"
   ]
  },
  {
   "cell_type": "code",
   "execution_count": null,
   "metadata": {
    "pycharm": {
     "name": "#%%\n"
    }
   },
   "outputs": [],
   "source": [
    "price.head(14)"
   ]
  },
  {
   "cell_type": "markdown",
   "metadata": {},
   "source": []
  },
  {
   "cell_type": "code",
   "execution_count": null,
   "metadata": {
    "pycharm": {
     "name": "#%%\n"
    }
   },
   "outputs": [],
   "source": [
    "def to_datetime(date):\n",
    "    df = pd.DataFrame({'date': date})\n",
    "    df.date = pd.to_datetime(df.date)\n",
    "    return df.date"
   ]
  },
  {
   "cell_type": "markdown",
   "metadata": {},
   "source": []
  },
  {
   "cell_type": "code",
   "execution_count": null,
   "metadata": {
    "pycharm": {
     "name": "#%%\n"
    }
   },
   "outputs": [],
   "source": [
    "def to_datetime_pred(date_predict):\n",
    "    dfe = pd.DataFrame({'prediksi': date_predict})\n",
    "    dfe.prediksi = pd.to_datetime(dfe.prediksi)\n",
    "    return dfe.prediksi"
   ]
  },
  {
   "cell_type": "markdown",
   "metadata": {},
   "source": []
  },
  {
   "cell_type": "code",
   "execution_count": null,
   "metadata": {
    "pycharm": {
     "name": "#%%\n"
    }
   },
   "outputs": [],
   "source": [
    "x = to_datetime(date).values.astype(float).reshape(-1, 1)\n",
    "x_predict = to_datetime_pred(date_predict).values.astype(float).reshape(-1, 1)\n",
    "y = price.values.reshape(-1, 1)"
   ]
  },
  {
   "cell_type": "markdown",
   "metadata": {},
   "source": []
  },
  {
   "cell_type": "code",
   "execution_count": null,
   "metadata": {
    "pycharm": {
     "name": "#%%\n"
    }
   },
   "outputs": [],
   "source": [
    "las = Lasso(alpha=0.01, tol=1, normalize=True)\n",
    "las.fit(x, y)"
   ]
  },
  {
   "cell_type": "markdown",
   "metadata": {},
   "source": []
  },
  {
   "cell_type": "code",
   "execution_count": null,
   "metadata": {
    "pycharm": {
     "name": "#%%\n"
    }
   },
   "outputs": [],
   "source": [
    "def coef_intercept(las):\n",
    "    coef = las.coef_\n",
    "    intercept = las.intercept_\n",
    "    return coef, intercept"
   ]
  },
  {
   "cell_type": "markdown",
   "metadata": {},
   "source": []
  },
  {
   "cell_type": "code",
   "execution_count": null,
   "metadata": {
    "pycharm": {
     "name": "#%%\n"
    }
   },
   "outputs": [],
   "source": [
    "def prediction(las):\n",
    "    las_predict = las.predict(x)\n",
    "    las_pred_future = las.predict(x_predict)\n",
    "    return las_predict, las_pred_future"
   ]
  },
  {
   "cell_type": "markdown",
   "metadata": {},
   "source": []
  },
  {
   "cell_type": "code",
   "execution_count": null,
   "metadata": {
    "pycharm": {
     "name": "#%%\n"
    }
   },
   "outputs": [],
   "source": [
    "coef, intercept = coef_intercept(las)\n",
    "las_predict, las_pred_future = prediction(las)"
   ]
  },
  {
   "cell_type": "markdown",
   "metadata": {},
   "source": []
  },
  {
   "cell_type": "code",
   "execution_count": null,
   "metadata": {
    "pycharm": {
     "name": "#%%\n"
    }
   },
   "outputs": [],
   "source": [
    "plt.scatter(to_datetime(date), y, color='green')\n",
    "plt.plot(to_datetime(date), las_predict)\n",
    "plt.plot(to_datetime_pred(date_predict), las_pred_future)\n",
    "plt.tick_params(labelrotation=30)\n",
    "plt.ylabel(\"Dalam Rupiah\")\n",
    "plt.xlabel(\"Tanggal (jangka 14 hari)\")\n",
    "plt.legend(['Garis Lasso'])\n",
    "plt.title(\"Grafik Lasso Prediksi Harga Perak\")\n",
    "plt.show()"
   ]
  },
  {
   "cell_type": "markdown",
   "metadata": {},
   "source": []
  },
  {
   "cell_type": "code",
   "execution_count": null,
   "metadata": {
    "pycharm": {
     "name": "#%%\n"
    }
   },
   "outputs": [],
   "source": [
    "print(\"Pediksi Harga Perak menggunakan metode Lasso\")\n",
    "print(\"Intercept = {}\".format(intercept))\n",
    "print(\"Coeffisien = {}\".format(coef))\n",
    "print(\"Prediksi Besoknya = {}\".format(lin_pred_future))\n"
   ]
  }
 ],
 "metadata": {
  "kernelspec": {
   "display_name": "Python 3",
   "language": "python",
   "name": "python3"
  },
  "language_info": {
   "codemirror_mode": {
    "name": "ipython",
    "version": 3
   },
   "file_extension": ".py",
   "mimetype": "text/x-python",
   "name": "python",
   "nbconvert_exporter": "python",
   "pygments_lexer": "ipython3",
   "version": "3.8.3"
  }
 },
 "nbformat": 4,
 "nbformat_minor": 1
}